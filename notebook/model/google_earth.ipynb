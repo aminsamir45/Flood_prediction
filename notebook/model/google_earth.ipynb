{
 "cells": [
  {
   "cell_type": "code",
   "execution_count": 1,
   "id": "aea27acd-2929-493c-8db7-9aec26a508a1",
   "metadata": {},
   "outputs": [],
   "source": [
    "import ee\n",
    "import geemap"
   ]
  },
  {
   "attachments": {},
   "cell_type": "markdown",
   "id": "fb8099be-0ef8-4612-9f01-f415f97a9de7",
   "metadata": {},
   "source": [
    "#### Setting up the google earth authentication flow\n",
    "- Authenticate and initialize the library below"
   ]
  },
  {
   "cell_type": "code",
   "execution_count": 2,
   "id": "a292394e-efd8-4966-8934-720eac37f63a",
   "metadata": {},
   "outputs": [
    {
     "data": {
      "text/html": [
       "<p>To authorize access needed by Earth Engine, open the following\n",
       "        URL in a web browser and follow the instructions:</p>\n",
       "        <p><a href=https://code.earthengine.google.com/client-auth?scopes=https%3A//www.googleapis.com/auth/earthengine%20https%3A//www.googleapis.com/auth/devstorage.full_control&request_id=o4tpboRBh6EB2CFe3Jskd27I_HHZqDRVkcOQscKeu7M&tc=NZgM-5bZZPZ5GeYXLb-hQ8Vo0QqpSPnjy2fkohAa8tI&cc=-xkiZ1c_iHQ4GGdi9M4TlMNLqXg_laQ53ebHu6N03U4>https://code.earthengine.google.com/client-auth?scopes=https%3A//www.googleapis.com/auth/earthengine%20https%3A//www.googleapis.com/auth/devstorage.full_control&request_id=o4tpboRBh6EB2CFe3Jskd27I_HHZqDRVkcOQscKeu7M&tc=NZgM-5bZZPZ5GeYXLb-hQ8Vo0QqpSPnjy2fkohAa8tI&cc=-xkiZ1c_iHQ4GGdi9M4TlMNLqXg_laQ53ebHu6N03U4</a></p>\n",
       "        <p>The authorization workflow will generate a code, which you should paste in the box below.</p>\n",
       "        "
      ],
      "text/plain": [
       "<IPython.core.display.HTML object>"
      ]
     },
     "metadata": {},
     "output_type": "display_data"
    },
    {
     "name": "stdout",
     "output_type": "stream",
     "text": [
      "\n",
      "Successfully saved authorization token.\n"
     ]
    }
   ],
   "source": [
    "# Trigger the authentication flow.\n",
    "ee.Authenticate()"
   ]
  },
  {
   "cell_type": "code",
   "execution_count": 3,
   "id": "eb3d1214-e670-48db-9207-0fa09424106a",
   "metadata": {},
   "outputs": [],
   "source": [
    "# Initialize the library\n",
    "\n",
    "ee.Initialize()"
   ]
  },
  {
   "attachments": {},
   "cell_type": "markdown",
   "id": "ae6198c0-fe8d-4c3d-9f57-2ab1e9985911",
   "metadata": {},
   "source": [
    "#### Taking longitude and Lattitude as inputs\n",
    "- We would like to grab output features based on this globally"
   ]
  },
  {
   "cell_type": "code",
   "execution_count": null,
   "id": "09a29a8e-135a-48f7-a29d-951e17ed7bd9",
   "metadata": {},
   "outputs": [
    {
     "data": {
      "application/vnd.jupyter.widget-view+json": {
       "model_id": "3dc387647fb142b1a81160764c8c18af",
       "version_major": 2,
       "version_minor": 0
      },
      "text/plain": [
       "Map(center=[37.4999999998191, -121.89400000006708], controls=(WidgetControl(options=['position', 'transparent_…"
      ]
     },
     "execution_count": 7,
     "metadata": {},
     "output_type": "execute_result"
    }
   ],
   "source": [
    "Map = geemap.Map()\n",
    "roi = ee.Geometry.Polygon(\n",
    "        [[[-121.895, 37.501],\n",
    "            [-121.895, 37.499],\n",
    "            [-121.893, 37.499],\n",
    "            [-121.893, 37.501]]])\n",
    "Map.centerObject(roi, 15)\n",
    "\n",
    "# Add Earth Engine dataset\n",
    "image = ee.ImageCollection('LANDSAT/LC08/C01/T1_TOA') \\\n",
    "\n",
    "# Filter collection\n",
    "filtered = image \\\n",
    "    .filterDate('2016-01-01', '2016-12-31') \\\n",
    "    .filterBounds(roi) \\\n",
    "    .sort('CLOUD_COVER', True)\n",
    "\n",
    "# Select the first image\n",
    "image = ee.Image(filtered.first())\n",
    "\n",
    "\n",
    "# Map"
   ]
  },
  {
   "cell_type": "code",
   "execution_count": null,
   "id": "6e3c0837",
   "metadata": {},
   "outputs": [],
   "source": [
    "#Import dataset\n",
    "\n",
    "dataset = ee.ImageCollection('COPERNICUS/S2_SR')\n",
    "precip = ee.ImageCollection(\"NASA/GPM_L3/IMERG_V06\")"
   ]
  },
  {
   "cell_type": "code",
   "execution_count": null,
   "id": "810412cb",
   "metadata": {},
   "outputs": [],
   "source": [
    "#Use Google Earth Engine to get global yearly rainfall data in a cvs file\n",
    "#https://developers.google.com/earth-engine/datasets/catalog/NASA_GPM_L3_IMERG_V06\n",
    "#https://developers.google.com/earth-engine/datasets/catalog/COPERNICUS_S2_SR\n",
    "#https://developers.google.com/earth-engine/datasets/catalog/LANDSAT_LC08_C01_T1_TOA\n",
    "\n",
    "#Define the area of interest\n",
    "roi = ee.Geometry.Polygon(\n",
    "\n",
    "        [[[-121.895, 37.501],\n",
    "            [-121.895, 37.499],\n",
    "            [-121.893, 37.499],\n",
    "            [-121.893, 37.501]]])\n",
    "\n",
    "#Define the time period\n",
    "precip = precip.filterDate('2016-01-01', '2016-12-31')\n",
    "dataset = dataset.filterDate('2016-01-01', '2016-12-31')\n",
    "\n",
    "#Define the bands\n",
    "precip = precip.select('precipitationCal')\n",
    "dataset = dataset.select('B4', 'B3', 'B2')\n",
    "\n",
    "#Define the scale\n",
    "precip = precip.mean().multiply(24*60*60*1000)\n",
    "dataset = dataset.median().multiply(0.0001)\n",
    "\n",
    "#Define the visualization parameters\n",
    "precipParams = {'min':0, 'max':100, 'palette':['blue', 'purple', 'cyan', 'green', 'yellow', 'red']}\n",
    "datasetParams = {'min':0, 'max':0.3, 'bands':['B4', 'B3', 'B2']}\n",
    "#Add the layers to the map\n",
    "\n",
    "Map.addLayer(precip, precipParams, 'Precipitation')\n",
    "Map.addLayer(dataset, datasetParams, 'Sentinel 2')\n",
    "Map"
   ]
  }
 ],
 "metadata": {
  "kernelspec": {
   "display_name": "Python 3 (ipykernel)",
   "language": "python",
   "name": "python3"
  },
  "language_info": {
   "codemirror_mode": {
    "name": "ipython",
    "version": 3
   },
   "file_extension": ".py",
   "mimetype": "text/x-python",
   "name": "python",
   "nbconvert_exporter": "python",
   "pygments_lexer": "ipython3",
   "version": "3.10.7"
  }
 },
 "nbformat": 4,
 "nbformat_minor": 5
}
