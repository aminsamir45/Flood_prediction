{
 "cells": [
  {
   "cell_type": "code",
   "execution_count": 1,
   "id": "005d9347",
   "metadata": {},
   "outputs": [],
   "source": [
    "import pandas as pd\n",
    "import matplotlib.pyplot as plt"
   ]
  },
  {
   "cell_type": "code",
   "execution_count": 3,
   "id": "dd995ad5",
   "metadata": {},
   "outputs": [],
   "source": [
    "df = pd.read_csv('../../data/FimaNfipClaims.csv')"
   ]
  },
  {
   "cell_type": "code",
   "execution_count": 4,
   "id": "074a1e1b",
   "metadata": {},
   "outputs": [
    {
     "name": "stdout",
     "output_type": "stream",
     "text": [
      "(2570089, 40)\n"
     ]
    }
   ],
   "source": [
    "print(df.shape)"
   ]
  },
  {
   "cell_type": "code",
   "execution_count": 13,
   "id": "638a7010",
   "metadata": {},
   "outputs": [
    {
     "name": "stdout",
     "output_type": "stream",
     "text": [
      "1970-08-31T00:00:00.000Z\n",
      "2022-04-14T00:00:00.000Z\n"
     ]
    }
   ],
   "source": [
    "#some date analysis\n",
    "print( df.dateOfLoss.min()) \n",
    "print( df.dateOfLoss.max()) \n"
   ]
  },
  {
   "cell_type": "code",
   "execution_count": 15,
   "id": "a7080720",
   "metadata": {},
   "outputs": [
    {
     "data": {
      "text/html": [
       "<div>\n",
       "<style scoped>\n",
       "    .dataframe tbody tr th:only-of-type {\n",
       "        vertical-align: middle;\n",
       "    }\n",
       "\n",
       "    .dataframe tbody tr th {\n",
       "        vertical-align: top;\n",
       "    }\n",
       "\n",
       "    .dataframe thead th {\n",
       "        text-align: right;\n",
       "    }\n",
       "</style>\n",
       "<table border=\"1\" class=\"dataframe\">\n",
       "  <thead>\n",
       "    <tr style=\"text-align: right;\">\n",
       "      <th></th>\n",
       "      <th>agricultureStructureIndicator</th>\n",
       "      <th>asOfDate</th>\n",
       "      <th>baseFloodElevation</th>\n",
       "      <th>basementEnclosureCrawlspace</th>\n",
       "      <th>reportedCity</th>\n",
       "      <th>condominiumIndicator</th>\n",
       "      <th>policyCount</th>\n",
       "      <th>countyCode</th>\n",
       "      <th>communityRatingSystemDiscount</th>\n",
       "      <th>dateOfLoss</th>\n",
       "      <th>...</th>\n",
       "      <th>postFIRMConstructionIndicator</th>\n",
       "      <th>rateMethod</th>\n",
       "      <th>smallBusinessIndicatorBuilding</th>\n",
       "      <th>state</th>\n",
       "      <th>totalBuildingInsuranceCoverage</th>\n",
       "      <th>totalContentsInsuranceCoverage</th>\n",
       "      <th>yearOfLoss</th>\n",
       "      <th>reportedZipcode</th>\n",
       "      <th>primaryResidence</th>\n",
       "      <th>id</th>\n",
       "    </tr>\n",
       "  </thead>\n",
       "  <tbody>\n",
       "    <tr>\n",
       "      <th>0</th>\n",
       "      <td>0.0</td>\n",
       "      <td>2021-07-24T00:00:00.000Z</td>\n",
       "      <td>NaN</td>\n",
       "      <td>1.0</td>\n",
       "      <td>Temporarily Unavailable</td>\n",
       "      <td>N</td>\n",
       "      <td>1.0</td>\n",
       "      <td>24033.0</td>\n",
       "      <td>5.0</td>\n",
       "      <td>2007-01-01T00:00:00.000Z</td>\n",
       "      <td>...</td>\n",
       "      <td>0.0</td>\n",
       "      <td>7</td>\n",
       "      <td>0.0</td>\n",
       "      <td>MD</td>\n",
       "      <td>100000.0</td>\n",
       "      <td>40000.0</td>\n",
       "      <td>2007</td>\n",
       "      <td>20745.0</td>\n",
       "      <td>1.0</td>\n",
       "      <td>babe8abc-eae6-49f4-a5d6-b892b1087a45</td>\n",
       "    </tr>\n",
       "    <tr>\n",
       "      <th>1</th>\n",
       "      <td>0.0</td>\n",
       "      <td>2021-07-24T00:00:00.000Z</td>\n",
       "      <td>NaN</td>\n",
       "      <td>NaN</td>\n",
       "      <td>Temporarily Unavailable</td>\n",
       "      <td>N</td>\n",
       "      <td>1.0</td>\n",
       "      <td>30009.0</td>\n",
       "      <td>NaN</td>\n",
       "      <td>2011-07-12T00:00:00.000Z</td>\n",
       "      <td>...</td>\n",
       "      <td>0.0</td>\n",
       "      <td>1</td>\n",
       "      <td>0.0</td>\n",
       "      <td>MT</td>\n",
       "      <td>150000.0</td>\n",
       "      <td>0.0</td>\n",
       "      <td>2011</td>\n",
       "      <td>59068.0</td>\n",
       "      <td>1.0</td>\n",
       "      <td>dbc2a6cc-192f-47ee-bd3c-e76bcc6a2350</td>\n",
       "    </tr>\n",
       "    <tr>\n",
       "      <th>2</th>\n",
       "      <td>0.0</td>\n",
       "      <td>2021-11-20T00:00:00.000Z</td>\n",
       "      <td>50.0</td>\n",
       "      <td>NaN</td>\n",
       "      <td>Temporarily Unavailable</td>\n",
       "      <td>N</td>\n",
       "      <td>1.0</td>\n",
       "      <td>48201.0</td>\n",
       "      <td>5.0</td>\n",
       "      <td>2001-06-09T00:00:00.000Z</td>\n",
       "      <td>...</td>\n",
       "      <td>1.0</td>\n",
       "      <td>1</td>\n",
       "      <td>0.0</td>\n",
       "      <td>TX</td>\n",
       "      <td>25000.0</td>\n",
       "      <td>25000.0</td>\n",
       "      <td>2001</td>\n",
       "      <td>77025.0</td>\n",
       "      <td>1.0</td>\n",
       "      <td>547d731b-b35f-4d60-a903-15cc8a4d12df</td>\n",
       "    </tr>\n",
       "    <tr>\n",
       "      <th>3</th>\n",
       "      <td>0.0</td>\n",
       "      <td>2021-11-20T00:00:00.000Z</td>\n",
       "      <td>9.0</td>\n",
       "      <td>NaN</td>\n",
       "      <td>Temporarily Unavailable</td>\n",
       "      <td>N</td>\n",
       "      <td>1.0</td>\n",
       "      <td>12103.0</td>\n",
       "      <td>5.0</td>\n",
       "      <td>1996-10-07T00:00:00.000Z</td>\n",
       "      <td>...</td>\n",
       "      <td>0.0</td>\n",
       "      <td>1</td>\n",
       "      <td>0.0</td>\n",
       "      <td>FL</td>\n",
       "      <td>150000.0</td>\n",
       "      <td>35000.0</td>\n",
       "      <td>1996</td>\n",
       "      <td>33702.0</td>\n",
       "      <td>1.0</td>\n",
       "      <td>18e7a2e8-5b52-4cdd-82a2-9112dbbc953b</td>\n",
       "    </tr>\n",
       "    <tr>\n",
       "      <th>4</th>\n",
       "      <td>0.0</td>\n",
       "      <td>2021-11-20T00:00:00.000Z</td>\n",
       "      <td>NaN</td>\n",
       "      <td>NaN</td>\n",
       "      <td>Temporarily Unavailable</td>\n",
       "      <td>N</td>\n",
       "      <td>1.0</td>\n",
       "      <td>24029.0</td>\n",
       "      <td>NaN</td>\n",
       "      <td>2003-09-19T00:00:00.000Z</td>\n",
       "      <td>...</td>\n",
       "      <td>0.0</td>\n",
       "      <td>1</td>\n",
       "      <td>0.0</td>\n",
       "      <td>MD</td>\n",
       "      <td>75000.0</td>\n",
       "      <td>10000.0</td>\n",
       "      <td>2003</td>\n",
       "      <td>21620.0</td>\n",
       "      <td>0.0</td>\n",
       "      <td>40c5393a-03a4-41ed-8fb3-4b3de1e28534</td>\n",
       "    </tr>\n",
       "  </tbody>\n",
       "</table>\n",
       "<p>5 rows × 40 columns</p>\n",
       "</div>"
      ],
      "text/plain": [
       "   agricultureStructureIndicator                  asOfDate  \\\n",
       "0                            0.0  2021-07-24T00:00:00.000Z   \n",
       "1                            0.0  2021-07-24T00:00:00.000Z   \n",
       "2                            0.0  2021-11-20T00:00:00.000Z   \n",
       "3                            0.0  2021-11-20T00:00:00.000Z   \n",
       "4                            0.0  2021-11-20T00:00:00.000Z   \n",
       "\n",
       "   baseFloodElevation  basementEnclosureCrawlspace             reportedCity  \\\n",
       "0                 NaN                          1.0  Temporarily Unavailable   \n",
       "1                 NaN                          NaN  Temporarily Unavailable   \n",
       "2                50.0                          NaN  Temporarily Unavailable   \n",
       "3                 9.0                          NaN  Temporarily Unavailable   \n",
       "4                 NaN                          NaN  Temporarily Unavailable   \n",
       "\n",
       "  condominiumIndicator  policyCount  countyCode  \\\n",
       "0                    N          1.0     24033.0   \n",
       "1                    N          1.0     30009.0   \n",
       "2                    N          1.0     48201.0   \n",
       "3                    N          1.0     12103.0   \n",
       "4                    N          1.0     24029.0   \n",
       "\n",
       "   communityRatingSystemDiscount                dateOfLoss  ...  \\\n",
       "0                            5.0  2007-01-01T00:00:00.000Z  ...   \n",
       "1                            NaN  2011-07-12T00:00:00.000Z  ...   \n",
       "2                            5.0  2001-06-09T00:00:00.000Z  ...   \n",
       "3                            5.0  1996-10-07T00:00:00.000Z  ...   \n",
       "4                            NaN  2003-09-19T00:00:00.000Z  ...   \n",
       "\n",
       "   postFIRMConstructionIndicator  rateMethod  smallBusinessIndicatorBuilding  \\\n",
       "0                            0.0           7                             0.0   \n",
       "1                            0.0           1                             0.0   \n",
       "2                            1.0           1                             0.0   \n",
       "3                            0.0           1                             0.0   \n",
       "4                            0.0           1                             0.0   \n",
       "\n",
       "   state totalBuildingInsuranceCoverage  totalContentsInsuranceCoverage  \\\n",
       "0     MD                       100000.0                         40000.0   \n",
       "1     MT                       150000.0                             0.0   \n",
       "2     TX                        25000.0                         25000.0   \n",
       "3     FL                       150000.0                         35000.0   \n",
       "4     MD                        75000.0                         10000.0   \n",
       "\n",
       "   yearOfLoss  reportedZipcode  primaryResidence  \\\n",
       "0        2007          20745.0               1.0   \n",
       "1        2011          59068.0               1.0   \n",
       "2        2001          77025.0               1.0   \n",
       "3        1996          33702.0               1.0   \n",
       "4        2003          21620.0               0.0   \n",
       "\n",
       "                                     id  \n",
       "0  babe8abc-eae6-49f4-a5d6-b892b1087a45  \n",
       "1  dbc2a6cc-192f-47ee-bd3c-e76bcc6a2350  \n",
       "2  547d731b-b35f-4d60-a903-15cc8a4d12df  \n",
       "3  18e7a2e8-5b52-4cdd-82a2-9112dbbc953b  \n",
       "4  40c5393a-03a4-41ed-8fb3-4b3de1e28534  \n",
       "\n",
       "[5 rows x 40 columns]"
      ]
     },
     "execution_count": 15,
     "metadata": {},
     "output_type": "execute_result"
    }
   ],
   "source": [
    "df.head()"
   ]
  },
  {
   "cell_type": "code",
   "execution_count": 14,
   "id": "7e3c1a90",
   "metadata": {},
   "outputs": [
    {
     "data": {
      "text/plain": [
       "agricultureStructureIndicator                 float64\n",
       "asOfDate                                       object\n",
       "baseFloodElevation                            float64\n",
       "basementEnclosureCrawlspace                   float64\n",
       "reportedCity                                   object\n",
       "condominiumIndicator                           object\n",
       "policyCount                                   float64\n",
       "countyCode                                    float64\n",
       "communityRatingSystemDiscount                 float64\n",
       "dateOfLoss                                     object\n",
       "elevatedBuildingIndicator                     float64\n",
       "elevationCertificateIndicator                 float64\n",
       "elevationDifference                           float64\n",
       "censusTract                                   float64\n",
       "floodZone                                      object\n",
       "houseWorship                                  float64\n",
       "latitude                                      float64\n",
       "longitude                                     float64\n",
       "locationOfContents                              int64\n",
       "lowestAdjacentGrade                           float64\n",
       "lowestFloorElevation                          float64\n",
       "numberOfFloorsInTheInsuredBuilding            float64\n",
       "nonProfitIndicator                            float64\n",
       "obstructionType                               float64\n",
       "occupancyType                                 float64\n",
       "originalConstructionDate                       object\n",
       "originalNBDate                                 object\n",
       "amountPaidOnBuildingClaim                     float64\n",
       "amountPaidOnContentsClaim                     float64\n",
       "amountPaidOnIncreasedCostOfComplianceClaim    float64\n",
       "postFIRMConstructionIndicator                 float64\n",
       "rateMethod                                     object\n",
       "smallBusinessIndicatorBuilding                float64\n",
       "state                                          object\n",
       "totalBuildingInsuranceCoverage                float64\n",
       "totalContentsInsuranceCoverage                float64\n",
       "yearOfLoss                                      int64\n",
       "reportedZipcode                               float64\n",
       "primaryResidence                              float64\n",
       "id                                             object\n",
       "dtype: object"
      ]
     },
     "execution_count": 14,
     "metadata": {},
     "output_type": "execute_result"
    }
   ],
   "source": [
    "df.dtypes"
   ]
  },
  {
   "cell_type": "code",
   "execution_count": 16,
   "id": "9aaf935e",
   "metadata": {},
   "outputs": [
    {
     "data": {
      "text/html": [
       "<div>\n",
       "<style scoped>\n",
       "    .dataframe tbody tr th:only-of-type {\n",
       "        vertical-align: middle;\n",
       "    }\n",
       "\n",
       "    .dataframe tbody tr th {\n",
       "        vertical-align: top;\n",
       "    }\n",
       "\n",
       "    .dataframe thead th {\n",
       "        text-align: right;\n",
       "    }\n",
       "</style>\n",
       "<table border=\"1\" class=\"dataframe\">\n",
       "  <thead>\n",
       "    <tr style=\"text-align: right;\">\n",
       "      <th></th>\n",
       "      <th>latitude</th>\n",
       "      <th>longitude</th>\n",
       "    </tr>\n",
       "  </thead>\n",
       "  <tbody>\n",
       "    <tr>\n",
       "      <th>0</th>\n",
       "      <td>38.8</td>\n",
       "      <td>-77.0</td>\n",
       "    </tr>\n",
       "    <tr>\n",
       "      <th>1</th>\n",
       "      <td>45.2</td>\n",
       "      <td>-109.2</td>\n",
       "    </tr>\n",
       "    <tr>\n",
       "      <th>2</th>\n",
       "      <td>29.7</td>\n",
       "      <td>-95.4</td>\n",
       "    </tr>\n",
       "    <tr>\n",
       "      <th>3</th>\n",
       "      <td>27.9</td>\n",
       "      <td>-82.6</td>\n",
       "    </tr>\n",
       "    <tr>\n",
       "      <th>4</th>\n",
       "      <td>39.1</td>\n",
       "      <td>-76.1</td>\n",
       "    </tr>\n",
       "    <tr>\n",
       "      <th>...</th>\n",
       "      <td>...</td>\n",
       "      <td>...</td>\n",
       "    </tr>\n",
       "    <tr>\n",
       "      <th>2570084</th>\n",
       "      <td>35.6</td>\n",
       "      <td>-75.5</td>\n",
       "    </tr>\n",
       "    <tr>\n",
       "      <th>2570085</th>\n",
       "      <td>43.6</td>\n",
       "      <td>-84.3</td>\n",
       "    </tr>\n",
       "    <tr>\n",
       "      <th>2570086</th>\n",
       "      <td>35.3</td>\n",
       "      <td>-78.0</td>\n",
       "    </tr>\n",
       "    <tr>\n",
       "      <th>2570087</th>\n",
       "      <td>34.4</td>\n",
       "      <td>-77.6</td>\n",
       "    </tr>\n",
       "    <tr>\n",
       "      <th>2570088</th>\n",
       "      <td>40.1</td>\n",
       "      <td>-74.1</td>\n",
       "    </tr>\n",
       "  </tbody>\n",
       "</table>\n",
       "<p>2570089 rows × 2 columns</p>\n",
       "</div>"
      ],
      "text/plain": [
       "         latitude  longitude\n",
       "0            38.8      -77.0\n",
       "1            45.2     -109.2\n",
       "2            29.7      -95.4\n",
       "3            27.9      -82.6\n",
       "4            39.1      -76.1\n",
       "...           ...        ...\n",
       "2570084      35.6      -75.5\n",
       "2570085      43.6      -84.3\n",
       "2570086      35.3      -78.0\n",
       "2570087      34.4      -77.6\n",
       "2570088      40.1      -74.1\n",
       "\n",
       "[2570089 rows x 2 columns]"
      ]
     },
     "execution_count": 16,
     "metadata": {},
     "output_type": "execute_result"
    }
   ],
   "source": [
    "df[['latitude','longitude']]"
   ]
  },
  {
   "cell_type": "code",
   "execution_count": 51,
   "id": "1e080759",
   "metadata": {},
   "outputs": [
    {
     "name": "stdout",
     "output_type": "stream",
     "text": [
      "            amountPaidOnBuildingClaim\n",
      "yearOfLoss                           \n",
      "1970                                0\n",
      "1972                                0\n",
      "1973                                3\n",
      "1974                                4\n",
      "1975                               20\n",
      "1976                               36\n",
      "1977                             3503\n",
      "1978                            25352\n",
      "1979                            61512\n",
      "1980                            36459\n"
     ]
    }
   ],
   "source": [
    "#see which years have data: \n",
    "agg= df.groupby('yearOfLoss').agg({'amountPaidOnBuildingClaim':'count'})\n",
    "print(agg.head(10))\n",
    "#crop to after 1975 \n",
    "df = df.loc[df['yearOfLoss']>=1975]"
   ]
  },
  {
   "cell_type": "code",
   "execution_count": 52,
   "id": "5ddc40a6",
   "metadata": {},
   "outputs": [
    {
     "data": {
      "text/plain": [
       "Text(0.5, 1.0, 'claims amt')"
      ]
     },
     "execution_count": 52,
     "metadata": {},
     "output_type": "execute_result"
    },
    {
     "data": {
      "image/png": "[encoded data removed]",
      "text/plain": [
       "<Figure size 432x288 with 1 Axes>"
      ]
     },
     "metadata": {
      "needs_background": "light"
     },
     "output_type": "display_data"
    }
   ],
   "source": [
    "#amount paid by year \n",
    "df.groupby('yearOfLoss').agg({'amountPaidOnBuildingClaim':'sum'}).plot()\n",
    "plt.title('claims amt')"
   ]
  },
  {
   "cell_type": "code",
   "execution_count": 53,
   "id": "b39bd1c5",
   "metadata": {},
   "outputs": [
    {
     "data": {
      "text/plain": [
       "Text(0.5, 1.0, 'claims count')"
      ]
     },
     "execution_count": 53,
     "metadata": {},
     "output_type": "execute_result"
    },
    {
     "data": {
      "image/png": "[encoded data removed]",
      "text/plain": [
       "<Figure size 432x288 with 1 Axes>"
      ]
     },
     "metadata": {
      "needs_background": "light"
     },
     "output_type": "display_data"
    }
   ],
   "source": [
    "#number of claims by year \n",
    "df.groupby('yearOfLoss').agg({'amountPaidOnBuildingClaim':'count'}).plot()\n",
    "plt.title('claims count')"
   ]
  },
  {
   "cell_type": "code",
   "execution_count": 55,
   "id": "1a7f7fb4",
   "metadata": {
    "scrolled": true
   },
   "outputs": [
    {
     "data": {
      "text/plain": [
       "Text(0.5, 1.0, 'totale claim amt by state')"
      ]
     },
     "execution_count": 55,
     "metadata": {},
     "output_type": "execute_result"
    },
    {
     "data": {
      "image/png": "[encoded data removed]",
      "text/plain": [
       "<Figure size 432x288 with 1 Axes>"
      ]
     },
     "metadata": {
      "needs_background": "light"
     },
     "output_type": "display_data"
    }
   ],
   "source": [
    "#number of claims by state \n",
    "agg= df.groupby('state').agg({'amountPaidOnBuildingClaim':'sum'})\n",
    "agg.sort_values(by='amountPaidOnBuildingClaim', ascending=False).head(30).plot(kind='bar')\n",
    "plt.title('totale claim amt by state')"
   ]
  },
  {
   "cell_type": "code",
   "execution_count": null,
   "id": "78bcb2a7",
   "metadata": {},
   "outputs": [],
   "source": []
  },
  {
   "cell_type": "code",
   "execution_count": 21,
   "id": "73ae3d82",
   "metadata": {},
   "outputs": [
    {
     "data": {
      "text/html": [
       "<div>\n",
       "<style scoped>\n",
       "    .dataframe tbody tr th:only-of-type {\n",
       "        vertical-align: middle;\n",
       "    }\n",
       "\n",
       "    .dataframe tbody tr th {\n",
       "        vertical-align: top;\n",
       "    }\n",
       "\n",
       "    .dataframe thead th {\n",
       "        text-align: right;\n",
       "    }\n",
       "</style>\n",
       "<table border=\"1\" class=\"dataframe\">\n",
       "  <thead>\n",
       "    <tr style=\"text-align: right;\">\n",
       "      <th></th>\n",
       "      <th>totalBuildingInsuranceCoverage</th>\n",
       "      <th>amountPaidOnBuildingClaim</th>\n",
       "    </tr>\n",
       "  </thead>\n",
       "  <tbody>\n",
       "    <tr>\n",
       "      <th>0</th>\n",
       "      <td>100000.0</td>\n",
       "      <td>NaN</td>\n",
       "    </tr>\n",
       "    <tr>\n",
       "      <th>1</th>\n",
       "      <td>150000.0</td>\n",
       "      <td>593.50</td>\n",
       "    </tr>\n",
       "    <tr>\n",
       "      <th>2</th>\n",
       "      <td>25000.0</td>\n",
       "      <td>NaN</td>\n",
       "    </tr>\n",
       "    <tr>\n",
       "      <th>3</th>\n",
       "      <td>150000.0</td>\n",
       "      <td>NaN</td>\n",
       "    </tr>\n",
       "    <tr>\n",
       "      <th>4</th>\n",
       "      <td>75000.0</td>\n",
       "      <td>31311.04</td>\n",
       "    </tr>\n",
       "  </tbody>\n",
       "</table>\n",
       "</div>"
      ],
      "text/plain": [
       "   totalBuildingInsuranceCoverage  amountPaidOnBuildingClaim\n",
       "0                        100000.0                        NaN\n",
       "1                        150000.0                     593.50\n",
       "2                         25000.0                        NaN\n",
       "3                        150000.0                        NaN\n",
       "4                         75000.0                   31311.04"
      ]
     },
     "execution_count": 21,
     "metadata": {},
     "output_type": "execute_result"
    }
   ],
   "source": [
    "#figure out which is paid which is coverage \n",
    "df[['totalBuildingInsuranceCoverage','amountPaidOnBuildingClaim']].head()"
   ]
  },
  {
   "cell_type": "code",
   "execution_count": null,
   "id": "f7f72e7d",
   "metadata": {},
   "outputs": [],
   "source": []
  }
 ],
 "metadata": {
  "kernelspec": {
   "display_name": "Python 3",
   "language": "python",
   "name": "python3"
  },
  "language_info": {
   "codemirror_mode": {
    "name": "ipython",
    "version": 3
   },
   "file_extension": ".py",
   "mimetype": "text/x-python",
   "name": "python",
   "nbconvert_exporter": "python",
   "pygments_lexer": "ipython3",
   "version": "3.9.0"
  },
  "latex_envs": {
   "LaTeX_envs_menu_present": true,
   "autoclose": false,
   "autocomplete": true,
   "bibliofile": "biblio.bib",
   "cite_by": "apalike",
   "current_citInitial": 1,
   "eqLabelWithNumbers": true,
   "eqNumInitial": 1,
   "hotkeys": {
    "equation": "Ctrl-E",
    "itemize": "Ctrl-I"
   },
   "labels_anchors": false,
   "latex_user_defs": false,
   "report_style_numbering": false,
   "user_envs_cfg": false
  },
  "toc": {
   "base_numbering": 1,
   "nav_menu": {},
   "number_sections": true,
   "sideBar": true,
   "skip_h1_title": false,
   "title_cell": "Table of Contents",
   "title_sidebar": "Contents",
   "toc_cell": false,
   "toc_position": {},
   "toc_section_display": true,
   "toc_window_display": false
  }
 },
 "nbformat": 4,
 "nbformat_minor": 5
}
