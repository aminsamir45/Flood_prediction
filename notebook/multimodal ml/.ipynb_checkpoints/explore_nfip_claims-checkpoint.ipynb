{
 "cells": [
  {
   "cell_type": "code",
   "execution_count": 1,
   "metadata": {},
   "outputs": [],
   "source": [
    "import pandas as pd"
   ]
  },
  {
   "cell_type": "code",
   "execution_count": 2,
   "metadata": {},
   "outputs": [],
   "source": [
    "df = pd.read_csv('../../data/FimaNfipClaims.csv')"
   ]
  },
  {
   "cell_type": "code",
   "execution_count": 3,
   "metadata": {},
   "outputs": [
    {
     "data": {
      "text/html": [
       "<div>\n",
       "<style scoped>\n",
       "    .dataframe tbody tr th:only-of-type {\n",
       "        vertical-align: middle;\n",
       "    }\n",
       "\n",
       "    .dataframe tbody tr th {\n",
       "        vertical-align: top;\n",
       "    }\n",
       "\n",
       "    .dataframe thead th {\n",
       "        text-align: right;\n",
       "    }\n",
       "</style>\n",
       "<table border=\"1\" class=\"dataframe\">\n",
       "  <thead>\n",
       "    <tr style=\"text-align: right;\">\n",
       "      <th></th>\n",
       "      <th>agricultureStructureIndicator</th>\n",
       "      <th>asOfDate</th>\n",
       "      <th>baseFloodElevation</th>\n",
       "      <th>basementEnclosureCrawlspace</th>\n",
       "      <th>reportedCity</th>\n",
       "      <th>condominiumIndicator</th>\n",
       "      <th>policyCount</th>\n",
       "      <th>countyCode</th>\n",
       "      <th>communityRatingSystemDiscount</th>\n",
       "      <th>dateOfLoss</th>\n",
       "      <th>...</th>\n",
       "      <th>postFIRMConstructionIndicator</th>\n",
       "      <th>rateMethod</th>\n",
       "      <th>smallBusinessIndicatorBuilding</th>\n",
       "      <th>state</th>\n",
       "      <th>totalBuildingInsuranceCoverage</th>\n",
       "      <th>totalContentsInsuranceCoverage</th>\n",
       "      <th>yearOfLoss</th>\n",
       "      <th>reportedZipcode</th>\n",
       "      <th>primaryResidence</th>\n",
       "      <th>id</th>\n",
       "    </tr>\n",
       "  </thead>\n",
       "  <tbody>\n",
       "    <tr>\n",
       "      <th>0</th>\n",
       "      <td>0.0</td>\n",
       "      <td>2021-07-24T00:00:00.000Z</td>\n",
       "      <td>NaN</td>\n",
       "      <td>1.0</td>\n",
       "      <td>Temporarily Unavailable</td>\n",
       "      <td>N</td>\n",
       "      <td>1.0</td>\n",
       "      <td>24033.0</td>\n",
       "      <td>5.0</td>\n",
       "      <td>2007-01-01T00:00:00.000Z</td>\n",
       "      <td>...</td>\n",
       "      <td>0.0</td>\n",
       "      <td>7</td>\n",
       "      <td>0.0</td>\n",
       "      <td>MD</td>\n",
       "      <td>100000.0</td>\n",
       "      <td>40000.0</td>\n",
       "      <td>2007</td>\n",
       "      <td>20745.0</td>\n",
       "      <td>1.0</td>\n",
       "      <td>babe8abc-eae6-49f4-a5d6-b892b1087a45</td>\n",
       "    </tr>\n",
       "    <tr>\n",
       "      <th>1</th>\n",
       "      <td>0.0</td>\n",
       "      <td>2021-07-24T00:00:00.000Z</td>\n",
       "      <td>NaN</td>\n",
       "      <td>NaN</td>\n",
       "      <td>Temporarily Unavailable</td>\n",
       "      <td>N</td>\n",
       "      <td>1.0</td>\n",
       "      <td>30009.0</td>\n",
       "      <td>NaN</td>\n",
       "      <td>2011-07-12T00:00:00.000Z</td>\n",
       "      <td>...</td>\n",
       "      <td>0.0</td>\n",
       "      <td>1</td>\n",
       "      <td>0.0</td>\n",
       "      <td>MT</td>\n",
       "      <td>150000.0</td>\n",
       "      <td>0.0</td>\n",
       "      <td>2011</td>\n",
       "      <td>59068.0</td>\n",
       "      <td>1.0</td>\n",
       "      <td>dbc2a6cc-192f-47ee-bd3c-e76bcc6a2350</td>\n",
       "    </tr>\n",
       "  </tbody>\n",
       "</table>\n",
       "<p>2 rows × 40 columns</p>\n",
       "</div>"
      ],
      "text/plain": [
       "   agricultureStructureIndicator                  asOfDate  \\\n",
       "0                            0.0  2021-07-24T00:00:00.000Z   \n",
       "1                            0.0  2021-07-24T00:00:00.000Z   \n",
       "\n",
       "   baseFloodElevation  basementEnclosureCrawlspace             reportedCity  \\\n",
       "0                 NaN                          1.0  Temporarily Unavailable   \n",
       "1                 NaN                          NaN  Temporarily Unavailable   \n",
       "\n",
       "  condominiumIndicator  policyCount  countyCode  \\\n",
       "0                    N          1.0     24033.0   \n",
       "1                    N          1.0     30009.0   \n",
       "\n",
       "   communityRatingSystemDiscount                dateOfLoss  ...  \\\n",
       "0                            5.0  2007-01-01T00:00:00.000Z  ...   \n",
       "1                            NaN  2011-07-12T00:00:00.000Z  ...   \n",
       "\n",
       "   postFIRMConstructionIndicator  rateMethod  smallBusinessIndicatorBuilding  \\\n",
       "0                            0.0           7                             0.0   \n",
       "1                            0.0           1                             0.0   \n",
       "\n",
       "   state totalBuildingInsuranceCoverage  totalContentsInsuranceCoverage  \\\n",
       "0     MD                       100000.0                         40000.0   \n",
       "1     MT                       150000.0                             0.0   \n",
       "\n",
       "   yearOfLoss  reportedZipcode  primaryResidence  \\\n",
       "0        2007          20745.0               1.0   \n",
       "1        2011          59068.0               1.0   \n",
       "\n",
       "                                     id  \n",
       "0  babe8abc-eae6-49f4-a5d6-b892b1087a45  \n",
       "1  dbc2a6cc-192f-47ee-bd3c-e76bcc6a2350  \n",
       "\n",
       "[2 rows x 40 columns]"
      ]
     },
     "execution_count": 3,
     "metadata": {},
     "output_type": "execute_result"
    }
   ],
   "source": [
    "df.head(2)"
   ]
  },
  {
   "cell_type": "code",
   "execution_count": 6,
   "metadata": {},
   "outputs": [
    {
     "data": {
      "text/plain": [
       "['agricultureStructureIndicator',\n",
       " 'asOfDate',\n",
       " 'baseFloodElevation',\n",
       " 'basementEnclosureCrawlspace',\n",
       " 'reportedCity',\n",
       " 'condominiumIndicator',\n",
       " 'policyCount',\n",
       " 'countyCode',\n",
       " 'communityRatingSystemDiscount',\n",
       " 'dateOfLoss',\n",
       " 'elevatedBuildingIndicator',\n",
       " 'elevationCertificateIndicator',\n",
       " 'elevationDifference',\n",
       " 'censusTract',\n",
       " 'floodZone',\n",
       " 'houseWorship',\n",
       " 'latitude',\n",
       " 'longitude',\n",
       " 'locationOfContents',\n",
       " 'lowestAdjacentGrade',\n",
       " 'lowestFloorElevation',\n",
       " 'numberOfFloorsInTheInsuredBuilding',\n",
       " 'nonProfitIndicator',\n",
       " 'obstructionType',\n",
       " 'occupancyType',\n",
       " 'originalConstructionDate',\n",
       " 'originalNBDate',\n",
       " 'amountPaidOnBuildingClaim',\n",
       " 'amountPaidOnContentsClaim',\n",
       " 'amountPaidOnIncreasedCostOfComplianceClaim',\n",
       " 'postFIRMConstructionIndicator',\n",
       " 'rateMethod',\n",
       " 'smallBusinessIndicatorBuilding',\n",
       " 'state',\n",
       " 'totalBuildingInsuranceCoverage',\n",
       " 'totalContentsInsuranceCoverage',\n",
       " 'yearOfLoss',\n",
       " 'reportedZipcode',\n",
       " 'primaryResidence',\n",
       " 'id']"
      ]
     },
     "execution_count": 6,
     "metadata": {},
     "output_type": "execute_result"
    }
   ],
   "source": [
    "df.columns.tolist()"
   ]
  },
  {
   "cell_type": "code",
   "execution_count": 9,
   "metadata": {},
   "outputs": [
    {
     "data": {
      "text/html": [
       "<div>\n",
       "<style scoped>\n",
       "    .dataframe tbody tr th:only-of-type {\n",
       "        vertical-align: middle;\n",
       "    }\n",
       "\n",
       "    .dataframe tbody tr th {\n",
       "        vertical-align: top;\n",
       "    }\n",
       "\n",
       "    .dataframe thead th {\n",
       "        text-align: right;\n",
       "    }\n",
       "</style>\n",
       "<table border=\"1\" class=\"dataframe\">\n",
       "  <thead>\n",
       "    <tr style=\"text-align: right;\">\n",
       "      <th></th>\n",
       "      <th>reportedZipcode</th>\n",
       "      <th>state</th>\n",
       "    </tr>\n",
       "  </thead>\n",
       "  <tbody>\n",
       "    <tr>\n",
       "      <th>0</th>\n",
       "      <td>20745.0</td>\n",
       "      <td>MD</td>\n",
       "    </tr>\n",
       "    <tr>\n",
       "      <th>1</th>\n",
       "      <td>59068.0</td>\n",
       "      <td>MT</td>\n",
       "    </tr>\n",
       "    <tr>\n",
       "      <th>2</th>\n",
       "      <td>77025.0</td>\n",
       "      <td>TX</td>\n",
       "    </tr>\n",
       "    <tr>\n",
       "      <th>3</th>\n",
       "      <td>33702.0</td>\n",
       "      <td>FL</td>\n",
       "    </tr>\n",
       "    <tr>\n",
       "      <th>4</th>\n",
       "      <td>21620.0</td>\n",
       "      <td>MD</td>\n",
       "    </tr>\n",
       "    <tr>\n",
       "      <th>...</th>\n",
       "      <td>...</td>\n",
       "      <td>...</td>\n",
       "    </tr>\n",
       "    <tr>\n",
       "      <th>2570084</th>\n",
       "      <td>27968.0</td>\n",
       "      <td>NC</td>\n",
       "    </tr>\n",
       "    <tr>\n",
       "      <th>2570085</th>\n",
       "      <td>48640.0</td>\n",
       "      <td>MI</td>\n",
       "    </tr>\n",
       "    <tr>\n",
       "      <th>2570086</th>\n",
       "      <td>27530.0</td>\n",
       "      <td>NC</td>\n",
       "    </tr>\n",
       "    <tr>\n",
       "      <th>2570087</th>\n",
       "      <td>28445.0</td>\n",
       "      <td>NC</td>\n",
       "    </tr>\n",
       "    <tr>\n",
       "      <th>2570088</th>\n",
       "      <td>8736.0</td>\n",
       "      <td>NJ</td>\n",
       "    </tr>\n",
       "  </tbody>\n",
       "</table>\n",
       "<p>2570089 rows × 2 columns</p>\n",
       "</div>"
      ],
      "text/plain": [
       "         reportedZipcode state\n",
       "0                20745.0    MD\n",
       "1                59068.0    MT\n",
       "2                77025.0    TX\n",
       "3                33702.0    FL\n",
       "4                21620.0    MD\n",
       "...                  ...   ...\n",
       "2570084          27968.0    NC\n",
       "2570085          48640.0    MI\n",
       "2570086          27530.0    NC\n",
       "2570087          28445.0    NC\n",
       "2570088           8736.0    NJ\n",
       "\n",
       "[2570089 rows x 2 columns]"
      ]
     },
     "execution_count": 9,
     "metadata": {},
     "output_type": "execute_result"
    }
   ],
   "source": [
    "df[['reportedZipcode','state']]"
   ]
  },
  {
   "cell_type": "code",
   "execution_count": 21,
   "metadata": {},
   "outputs": [],
   "source": [
    "#boston zipcode\n",
    "df0 = df.loc[(df['state']=='MA')&(df['reportedZipcode']== 2116)]"
   ]
  },
  {
   "cell_type": "code",
   "execution_count": 24,
   "metadata": {},
   "outputs": [
    {
     "data": {
      "text/html": [
       "<div>\n",
       "<style scoped>\n",
       "    .dataframe tbody tr th:only-of-type {\n",
       "        vertical-align: middle;\n",
       "    }\n",
       "\n",
       "    .dataframe tbody tr th {\n",
       "        vertical-align: top;\n",
       "    }\n",
       "\n",
       "    .dataframe thead th {\n",
       "        text-align: right;\n",
       "    }\n",
       "</style>\n",
       "<table border=\"1\" class=\"dataframe\">\n",
       "  <thead>\n",
       "    <tr style=\"text-align: right;\">\n",
       "      <th></th>\n",
       "      <th>amountPaidOnBuildingClaim</th>\n",
       "      <th>amountPaidOnContentsClaim</th>\n",
       "      <th>amountPaidOnIncreasedCostOfComplianceClaim</th>\n",
       "      <th>totalBuildingInsuranceCoverage</th>\n",
       "      <th>totalContentsInsuranceCoverage</th>\n",
       "      <th>reportedZipcode</th>\n",
       "      <th>state</th>\n",
       "      <th>yearOfLoss</th>\n",
       "    </tr>\n",
       "  </thead>\n",
       "  <tbody>\n",
       "    <tr>\n",
       "      <th>1765488</th>\n",
       "      <td>NaN</td>\n",
       "      <td>NaN</td>\n",
       "      <td>NaN</td>\n",
       "      <td>0.0</td>\n",
       "      <td>10000.0</td>\n",
       "      <td>2116.0</td>\n",
       "      <td>MA</td>\n",
       "      <td>1985</td>\n",
       "    </tr>\n",
       "    <tr>\n",
       "      <th>1868538</th>\n",
       "      <td>NaN</td>\n",
       "      <td>NaN</td>\n",
       "      <td>NaN</td>\n",
       "      <td>55000.0</td>\n",
       "      <td>10500.0</td>\n",
       "      <td>2116.0</td>\n",
       "      <td>MA</td>\n",
       "      <td>1985</td>\n",
       "    </tr>\n",
       "    <tr>\n",
       "      <th>149203</th>\n",
       "      <td>3698.0</td>\n",
       "      <td>NaN</td>\n",
       "      <td>NaN</td>\n",
       "      <td>20000.0</td>\n",
       "      <td>4300.0</td>\n",
       "      <td>2116.0</td>\n",
       "      <td>MA</td>\n",
       "      <td>1998</td>\n",
       "    </tr>\n",
       "    <tr>\n",
       "      <th>700336</th>\n",
       "      <td>NaN</td>\n",
       "      <td>NaN</td>\n",
       "      <td>NaN</td>\n",
       "      <td>100000.0</td>\n",
       "      <td>50000.0</td>\n",
       "      <td>2116.0</td>\n",
       "      <td>MA</td>\n",
       "      <td>2006</td>\n",
       "    </tr>\n",
       "    <tr>\n",
       "      <th>356910</th>\n",
       "      <td>NaN</td>\n",
       "      <td>NaN</td>\n",
       "      <td>NaN</td>\n",
       "      <td>25000.0</td>\n",
       "      <td>75000.0</td>\n",
       "      <td>2116.0</td>\n",
       "      <td>MA</td>\n",
       "      <td>2006</td>\n",
       "    </tr>\n",
       "    <tr>\n",
       "      <th>503660</th>\n",
       "      <td>NaN</td>\n",
       "      <td>NaN</td>\n",
       "      <td>NaN</td>\n",
       "      <td>0.0</td>\n",
       "      <td>57200.0</td>\n",
       "      <td>2116.0</td>\n",
       "      <td>MA</td>\n",
       "      <td>2010</td>\n",
       "    </tr>\n",
       "    <tr>\n",
       "      <th>1016548</th>\n",
       "      <td>NaN</td>\n",
       "      <td>NaN</td>\n",
       "      <td>NaN</td>\n",
       "      <td>125000.0</td>\n",
       "      <td>80000.0</td>\n",
       "      <td>2116.0</td>\n",
       "      <td>MA</td>\n",
       "      <td>2010</td>\n",
       "    </tr>\n",
       "    <tr>\n",
       "      <th>812172</th>\n",
       "      <td>NaN</td>\n",
       "      <td>NaN</td>\n",
       "      <td>NaN</td>\n",
       "      <td>150000.0</td>\n",
       "      <td>60000.0</td>\n",
       "      <td>2116.0</td>\n",
       "      <td>MA</td>\n",
       "      <td>2011</td>\n",
       "    </tr>\n",
       "    <tr>\n",
       "      <th>2095772</th>\n",
       "      <td>NaN</td>\n",
       "      <td>NaN</td>\n",
       "      <td>NaN</td>\n",
       "      <td>250000.0</td>\n",
       "      <td>100000.0</td>\n",
       "      <td>2116.0</td>\n",
       "      <td>MA</td>\n",
       "      <td>2014</td>\n",
       "    </tr>\n",
       "    <tr>\n",
       "      <th>636588</th>\n",
       "      <td>NaN</td>\n",
       "      <td>NaN</td>\n",
       "      <td>NaN</td>\n",
       "      <td>0.0</td>\n",
       "      <td>40000.0</td>\n",
       "      <td>2116.0</td>\n",
       "      <td>MA</td>\n",
       "      <td>2018</td>\n",
       "    </tr>\n",
       "  </tbody>\n",
       "</table>\n",
       "</div>"
      ],
      "text/plain": [
       "         amountPaidOnBuildingClaim  amountPaidOnContentsClaim  \\\n",
       "1765488                        NaN                        NaN   \n",
       "1868538                        NaN                        NaN   \n",
       "149203                      3698.0                        NaN   \n",
       "700336                         NaN                        NaN   \n",
       "356910                         NaN                        NaN   \n",
       "503660                         NaN                        NaN   \n",
       "1016548                        NaN                        NaN   \n",
       "812172                         NaN                        NaN   \n",
       "2095772                        NaN                        NaN   \n",
       "636588                         NaN                        NaN   \n",
       "\n",
       "         amountPaidOnIncreasedCostOfComplianceClaim  \\\n",
       "1765488                                         NaN   \n",
       "1868538                                         NaN   \n",
       "149203                                          NaN   \n",
       "700336                                          NaN   \n",
       "356910                                          NaN   \n",
       "503660                                          NaN   \n",
       "1016548                                         NaN   \n",
       "812172                                          NaN   \n",
       "2095772                                         NaN   \n",
       "636588                                          NaN   \n",
       "\n",
       "         totalBuildingInsuranceCoverage  totalContentsInsuranceCoverage  \\\n",
       "1765488                             0.0                         10000.0   \n",
       "1868538                         55000.0                         10500.0   \n",
       "149203                          20000.0                          4300.0   \n",
       "700336                         100000.0                         50000.0   \n",
       "356910                          25000.0                         75000.0   \n",
       "503660                              0.0                         57200.0   \n",
       "1016548                        125000.0                         80000.0   \n",
       "812172                         150000.0                         60000.0   \n",
       "2095772                        250000.0                        100000.0   \n",
       "636588                              0.0                         40000.0   \n",
       "\n",
       "         reportedZipcode state  yearOfLoss  \n",
       "1765488           2116.0    MA        1985  \n",
       "1868538           2116.0    MA        1985  \n",
       "149203            2116.0    MA        1998  \n",
       "700336            2116.0    MA        2006  \n",
       "356910            2116.0    MA        2006  \n",
       "503660            2116.0    MA        2010  \n",
       "1016548           2116.0    MA        2010  \n",
       "812172            2116.0    MA        2011  \n",
       "2095772           2116.0    MA        2014  \n",
       "636588            2116.0    MA        2018  "
      ]
     },
     "execution_count": 24,
     "metadata": {},
     "output_type": "execute_result"
    }
   ],
   "source": [
    "#amount\n",
    "cols=['amountPaidOnBuildingClaim',\n",
    " 'amountPaidOnContentsClaim',\n",
    " 'amountPaidOnIncreasedCostOfComplianceClaim',\n",
    "     'totalBuildingInsuranceCoverage',\n",
    " 'totalContentsInsuranceCoverage']\n",
    "df0[cols + ['reportedZipcode','state','yearOfLoss']].sort_values('yearOfLoss').tail(10)"
   ]
  },
  {
   "cell_type": "code",
   "execution_count": 36,
   "metadata": {},
   "outputs": [
    {
     "data": {
      "text/plain": [
       "<AxesSubplot:title={'center':'Annual Total Claim Payment to Buildings in US'}, xlabel='yearOfLoss'>"
      ]
     },
     "execution_count": 36,
     "metadata": {},
     "output_type": "execute_result"
    },
    {
     "data": {
      "image/png": "[encoded data removed]",
      "text/plain": [
       "<Figure size 432x288 with 1 Axes>"
      ]
     },
     "metadata": {
      "needs_background": "light"
     },
     "output_type": "display_data"
    }
   ],
   "source": [
    "df.groupby('yearOfLoss').agg({'amountPaidOnBuildingClaim':'sum'}).plot(title='Annual Total Claim Payment to Buildings in US')"
   ]
  },
  {
   "cell_type": "code",
   "execution_count": null,
   "metadata": {},
   "outputs": [],
   "source": [
    "#aggregate by state \n"
   ]
  },
  {
   "cell_type": "code",
   "execution_count": 39,
   "metadata": {},
   "outputs": [
    {
     "data": {
      "text/plain": [
       "25911"
      ]
     },
     "execution_count": 39,
     "metadata": {},
     "output_type": "execute_result"
    }
   ],
   "source": [
    "#total number of zip codes\n",
    "len(df.reportedZipcode.unique())"
   ]
  },
  {
   "cell_type": "code",
   "execution_count": 40,
   "metadata": {},
   "outputs": [
    {
     "data": {
      "text/plain": [
       "2570089"
      ]
     },
     "execution_count": 40,
     "metadata": {},
     "output_type": "execute_result"
    }
   ],
   "source": [
    "len(df)"
   ]
  },
  {
   "cell_type": "code",
   "execution_count": 43,
   "metadata": {},
   "outputs": [
    {
     "data": {
      "text/plain": [
       "2022"
      ]
     },
     "execution_count": 43,
     "metadata": {},
     "output_type": "execute_result"
    }
   ],
   "source": [
    "df.yearOfLoss.max()"
   ]
  },
  {
   "cell_type": "code",
   "execution_count": null,
   "metadata": {},
   "outputs": [],
   "source": []
  }
 ],
 "metadata": {
  "kernelspec": {
   "display_name": "Python 3",
   "language": "python",
   "name": "python3"
  },
  "language_info": {
   "codemirror_mode": {
    "name": "ipython",
    "version": 3
   },
   "file_extension": ".py",
   "mimetype": "text/x-python",
   "name": "python",
   "nbconvert_exporter": "python",
   "pygments_lexer": "ipython3",
   "version": "3.9.0"
  }
 },
 "nbformat": 4,
 "nbformat_minor": 4
}
