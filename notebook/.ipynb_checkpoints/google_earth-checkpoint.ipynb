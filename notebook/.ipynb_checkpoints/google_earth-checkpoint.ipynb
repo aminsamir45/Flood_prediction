{
 "cells": [
  {
   "cell_type": "code",
   "execution_count": 1,
   "id": "aea27acd-2929-493c-8db7-9aec26a508a1",
   "metadata": {},
   "outputs": [],
   "source": [
    "import ee"
   ]
  },
  {
   "cell_type": "markdown",
   "id": "fb8099be-0ef8-4612-9f01-f415f97a9de7",
   "metadata": {},
   "source": [
    "#### Setting up the google earth authentication flow\n",
    "- Authenticate and initialize the library below"
   ]
  },
  {
   "cell_type": "code",
   "execution_count": 7,
   "id": "a292394e-efd8-4966-8934-720eac37f63a",
   "metadata": {},
   "outputs": [
    {
     "data": {
      "text/html": [
       "<p>To authorize access needed by Earth Engine, open the following\n",
       "        URL in a web browser and follow the instructions:</p>\n",
       "        <p><a href=https://code.earthengine.google.com/client-auth?scopes=https%3A//www.googleapis.com/auth/earthengine%20https%3A//www.googleapis.com/auth/devstorage.full_control&request_id=f5JdjZ21xzouF0IzfBnsFk09Sjo3JPEbHdDKT0XyV3c&tc=6wYQXm92GWynaZJiS-zDwQkUCtoldVI1c6uE8dIPZDE&cc=POBfE3qLzo58s196YsBKATaIBu8Ur_Z8d-sKu3K87Q0>https://code.earthengine.google.com/client-auth?scopes=https%3A//www.googleapis.com/auth/earthengine%20https%3A//www.googleapis.com/auth/devstorage.full_control&request_id=f5JdjZ21xzouF0IzfBnsFk09Sjo3JPEbHdDKT0XyV3c&tc=6wYQXm92GWynaZJiS-zDwQkUCtoldVI1c6uE8dIPZDE&cc=POBfE3qLzo58s196YsBKATaIBu8Ur_Z8d-sKu3K87Q0</a></p>\n",
       "        <p>The authorization workflow will generate a code, which you should paste in the box below.</p>\n",
       "        "
      ],
      "text/plain": [
       "<IPython.core.display.HTML object>"
      ]
     },
     "metadata": {},
     "output_type": "display_data"
    },
    {
     "name": "stdin",
     "output_type": "stream",
     "text": [
      "Enter verification code:  4/1AWtgzh7F10QHlzZ6Oeja-HtyY17yHBjKYGYh3eXq_2pNgGBAcBWFGOOd_V4\n"
     ]
    },
    {
     "name": "stdout",
     "output_type": "stream",
     "text": [
      "\n",
      "Successfully saved authorization token.\n"
     ]
    }
   ],
   "source": [
    "# Trigger the authentication flow.\n",
    "ee.Authenticate()"
   ]
  },
  {
   "cell_type": "code",
   "execution_count": 8,
   "id": "eb3d1214-e670-48db-9207-0fa09424106a",
   "metadata": {},
   "outputs": [],
   "source": [
    "# Initialize the library.\n",
    "ee.Initialize()"
   ]
  },
  {
   "cell_type": "markdown",
   "id": "ae6198c0-fe8d-4c3d-9f57-2ab1e9985911",
   "metadata": {},
   "source": [
    "#### Taking longitude and Lattitude as inputs\n",
    "- We would like to grab output features based on this globally"
   ]
  },
  {
   "cell_type": "code",
   "execution_count": null,
   "id": "09a29a8e-135a-48f7-a29d-951e17ed7bd9",
   "metadata": {},
   "outputs": [],
   "source": []
  }
 ],
 "metadata": {
  "kernelspec": {
   "display_name": "Python 3 (ipykernel)",
   "language": "python",
   "name": "python3"
  },
  "language_info": {
   "codemirror_mode": {
    "name": "ipython",
    "version": 3
   },
   "file_extension": ".py",
   "mimetype": "text/x-python",
   "name": "python",
   "nbconvert_exporter": "python",
   "pygments_lexer": "ipython3",
   "version": "3.8.13"
  }
 },
 "nbformat": 4,
 "nbformat_minor": 5
}
